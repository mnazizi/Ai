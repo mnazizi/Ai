{
  "cells": [
    {
      "cell_type": "markdown",
      "metadata": {
        "id": "view-in-github",
        "colab_type": "text"
      },
      "source": [
        "<a href=\"https://colab.research.google.com/github/mnazizi/Gradeint_Decsent_For_Linear_Regression/blob/main/Gradient_Decent_Matrix_for_Linear_and_polynomial_Regression.ipynb\" target=\"_parent\"><img src=\"https://colab.research.google.com/assets/colab-badge.svg\" alt=\"Open In Colab\"/></a>"
      ]
    },
    {
      "cell_type": "code",
      "source": [
        "import numpy as np\n",
        "import matplotlib.pyplot as plt\n",
        "\n",
        "\n",
        "X_train = np.random.normal(0,100,(100000 , 6))\n",
        "X_train[: , 0]= 1\n",
        "X_test  = np.random.normal(0,100,(201 , 6))\n",
        "X_test[: , 0]= 1\n",
        "n , d  = X_train.shape\n",
        "RW = np.random.normal(0,2,(d , 1))\n",
        "Y_train = np.dot(X_train, RW)+np.random.normal(0,0,1)\n",
        "Y_test = np.dot(X_test, RW)+np.random.normal(0,0,1)\n",
        "print(RW)"
      ],
      "metadata": {
        "colab": {
          "base_uri": "https://localhost:8080/"
        },
        "id": "mDutAqUlLJrK",
        "outputId": "77cce244-7185-4322-f1e9-846d3f7dc764"
      },
      "execution_count": 50,
      "outputs": [
        {
          "output_type": "stream",
          "name": "stdout",
          "text": [
            "[[-3.63669481]\n",
            " [ 0.81332046]\n",
            " [-0.83709389]\n",
            " [-0.12903552]\n",
            " [-1.21494864]\n",
            " [ 1.04433322]]\n"
          ]
        }
      ]
    },
    {
      "cell_type": "code",
      "source": [
        "from IPython.display import clear_output\n",
        "def Calculate_Gradient(W , X , Y):\n",
        "  Y_pred = np.dot(X, W)\n",
        "  Err = np.sum((Y - Y_pred)**2)\n",
        "  dW = -2 *np.dot( X.T , (Y - Y_pred))\n",
        "  return  dW , Err\n",
        "\n",
        "W = np.zeros((d , 1))\n",
        "\n",
        "\n",
        "epoch = 20\n",
        "learning_rate = 0.0001\n",
        "batch = 100\n",
        "for i in range(epoch):\n",
        "  ERR = 0\n",
        "  for k in range(batch):\n",
        "    dW = np.zeros(W.shape)\n",
        "    DW = np.zeros(W.shape)\n",
        "    for j in range(int(n/batch)):\n",
        "      l = int(n/batch)\n",
        "      dW , Err = Calculate_Gradient(W , X_train[(j+k*(l)):(j+k*(l))+1] , Y_train[(j+k*(l)):(j+k*(l))+1])\n",
        "      DW = DW + dW\n",
        "      ERR = ERR + Err\n",
        "    W = W - learning_rate * (DW/n)\n",
        "    learning_rate = learning_rate * 0.995\n",
        "  Loss_train = ERR/n\n",
        "  Loss_test = np.sum((Y_test - np.dot(X_test, W))**2)/n\n",
        "  clear_output(wait=True)\n",
        "  print(\"epoch: \" , i , \"Loss Train: \" , Loss_train)\n",
        "\n",
        "\n",
        "print(\"epoch: \" , i , \"Loss Train: \" , Loss_train)\n",
        "print(\"epoch: \" , i , \"Loss Test: \" , Loss_test)\n",
        "print(\"Weight: \" , W)\n"
      ],
      "metadata": {
        "colab": {
          "base_uri": "https://localhost:8080/"
        },
        "id": "0WEVJYbE9Szl",
        "outputId": "4b5563cd-164a-4214-be67-9ddffb3bf48e"
      },
      "execution_count": 86,
      "outputs": [
        {
          "output_type": "stream",
          "name": "stdout",
          "text": [
            "epoch:  19 Loss Train:  25.759246052477323\n",
            "epoch:  19 Loss Train:  25.759246052477323\n",
            "epoch:  19 Loss Test:  0.04630271332595893\n",
            "Weight:  [[-0.00150394]\n",
            " [ 0.79878789]\n",
            " [-0.82228773]\n",
            " [-0.12660452]\n",
            " [-1.19324364]\n",
            " [ 1.02584056]]\n"
          ]
        }
      ]
    },
    {
      "cell_type": "code",
      "source": [
        "RW"
      ],
      "metadata": {
        "colab": {
          "base_uri": "https://localhost:8080/"
        },
        "id": "0u_PQfb0KP0n",
        "outputId": "344e2dee-a985-4b39-d3b8-63ee8e088f5f"
      },
      "execution_count": 65,
      "outputs": [
        {
          "output_type": "execute_result",
          "data": {
            "text/plain": [
              "array([[-3.63669481],\n",
              "       [ 0.81332046],\n",
              "       [-0.83709389],\n",
              "       [-0.12903552],\n",
              "       [-1.21494864],\n",
              "       [ 1.04433322]])"
            ]
          },
          "metadata": {},
          "execution_count": 65
        }
      ]
    },
    {
      "cell_type": "code",
      "source": [
        "v = range(10)\n",
        "print(v[9])"
      ],
      "metadata": {
        "colab": {
          "base_uri": "https://localhost:8080/"
        },
        "id": "ssCY16VHWdMK",
        "outputId": "2bfc214e-68e4-4536-ad96-bd2f51c073db"
      },
      "execution_count": 47,
      "outputs": [
        {
          "output_type": "stream",
          "name": "stdout",
          "text": [
            "9\n"
          ]
        }
      ]
    }
  ],
  "metadata": {
    "colab": {
      "provenance": [],
      "authorship_tag": "ABX9TyMIJRJUUGZuJRXXtNA4UK29",
      "include_colab_link": true
    },
    "kernelspec": {
      "display_name": "Python 3",
      "name": "python3"
    },
    "language_info": {
      "name": "python"
    }
  },
  "nbformat": 4,
  "nbformat_minor": 0
}