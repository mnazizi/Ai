{
  "cells": [
    {
      "cell_type": "markdown",
      "metadata": {
        "id": "view-in-github",
        "colab_type": "text"
      },
      "source": [
        "<a href=\"https://colab.research.google.com/github/mnazizi/Ai/blob/main/Gradient_Decent_Matrix_for_Linear_and_polynomial_Regression.ipynb\" target=\"_parent\"><img src=\"https://colab.research.google.com/assets/colab-badge.svg\" alt=\"Open In Colab\"/></a>"
      ]
    },
    {
      "cell_type": "code",
      "source": [
        "import numpy as np\n",
        "import matplotlib.pyplot as plt\n",
        "\n",
        "\n",
        "X_train = np.random.normal(0,100,(801 , 6))\n",
        "X_train[: , 0]= 1\n",
        "X_test  = np.random.normal(0,100,(201 , 6))\n",
        "X_test[: , 0]= 1\n",
        "n , d  = X_train.shape\n",
        "RW = np.random.normal(0,2,(d , 1))\n",
        "Y_train = np.dot(X_train, RW)+np.random.normal(0,0,1)\n",
        "Y_test = np.dot(X_test, RW)+np.random.normal(0,0,1)\n",
        "print(RW)"
      ],
      "metadata": {
        "colab": {
          "base_uri": "https://localhost:8080/"
        },
        "id": "mDutAqUlLJrK",
        "outputId": "2d8aa791-b703-461d-98af-9b0eeed54cc4"
      },
      "execution_count": 84,
      "outputs": [
        {
          "output_type": "stream",
          "name": "stdout",
          "text": [
            "[[ 0.36057556]\n",
            " [-1.20476056]\n",
            " [-6.04026674]\n",
            " [-0.23124348]\n",
            " [ 1.12021623]\n",
            " [ 1.31367595]]\n"
          ]
        }
      ]
    },
    {
      "cell_type": "code",
      "source": [
        "def Calculate_Gradient(W , X , Y):\n",
        "  Y_pred = np.dot(X, W)\n",
        "  Err = np.sum((Y - Y_pred)**2)\n",
        "  dW = -2 *np.dot( X.T , (Y - Y_pred))\n",
        "  return  dW , Err\n",
        "\n",
        "W = np.random.normal(0,2,(d , 1))\n",
        "\n",
        "\n",
        "epoch = 10000\n",
        "learning_rate = 0.00001\n",
        "\n",
        "for i in range(epoch):\n",
        "  dW = np.zeros(W.shape)\n",
        "  DW = np.zeros(W.shape)\n",
        "  ERR = 0\n",
        "  Err = 0\n",
        "  for j in range(n):\n",
        "    dW , Err = Calculate_Gradient(W , X_train[j:j+1] , Y_train[j:j+1])\n",
        "    DW = DW + dW\n",
        "    ERR = ERR + Err\n",
        "  W = W - learning_rate * (DW/n)\n",
        "  Loss_train = ERR/n\n",
        "  Loss_test = np.sum((Y_test - np.dot(X_test, W))**2)/n\n",
        "\n",
        "print(\"epoch: \" , i , \"Loss: \" , Loss_train)\n",
        "print(\"epoch: \" , i , \"Loss: \" , Loss_test)\n",
        "print(\"Weight: \" , W)\n"
      ],
      "metadata": {
        "id": "0WEVJYbE9Szl"
      },
      "execution_count": null,
      "outputs": []
    },
    {
      "cell_type": "code",
      "source": [
        "RW"
      ],
      "metadata": {
        "colab": {
          "base_uri": "https://localhost:8080/"
        },
        "id": "0u_PQfb0KP0n",
        "outputId": "7cff4a4a-9044-46e1-9f3c-8ef7e346e704"
      },
      "execution_count": 86,
      "outputs": [
        {
          "output_type": "execute_result",
          "data": {
            "text/plain": [
              "array([[ 0.36057556],\n",
              "       [-1.20476056],\n",
              "       [-6.04026674],\n",
              "       [-0.23124348],\n",
              "       [ 1.12021623],\n",
              "       [ 1.31367595]])"
            ]
          },
          "metadata": {},
          "execution_count": 86
        }
      ]
    }
  ],
  "metadata": {
    "colab": {
      "provenance": [],
      "authorship_tag": "ABX9TyOie2KhdPCwhyWd1SQPguk4",
      "include_colab_link": true
    },
    "kernelspec": {
      "display_name": "Python 3",
      "name": "python3"
    },
    "language_info": {
      "name": "python"
    }
  },
  "nbformat": 4,
  "nbformat_minor": 0
}