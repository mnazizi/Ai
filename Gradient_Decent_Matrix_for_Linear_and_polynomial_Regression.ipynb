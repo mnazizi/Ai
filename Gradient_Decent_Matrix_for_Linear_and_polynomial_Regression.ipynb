{
  "cells": [
    {
      "cell_type": "markdown",
      "metadata": {
        "id": "view-in-github",
        "colab_type": "text"
      },
      "source": [
        "<a href=\"https://colab.research.google.com/github/mnazizi/Gradeint_Decsent_For_Linear_Regression/blob/main/Gradient_Decent_Matrix_for_Linear_and_polynomial_Regression.ipynb\" target=\"_parent\"><img src=\"https://colab.research.google.com/assets/colab-badge.svg\" alt=\"Open In Colab\"/></a>"
      ]
    },
    {
      "cell_type": "code",
      "source": [
        "import numpy as np\n",
        "import matplotlib.pyplot as plt\n",
        "\n",
        "\n",
        "X_train = np.random.normal(0,100,(100001 , 6))\n",
        "X_train[: , 0]= 1\n",
        "X_test  = np.random.normal(0,100,(201 , 6))\n",
        "X_test[: , 0]= 1\n",
        "n , d  = X_train.shape\n",
        "RW = np.random.normal(0,2,(d , 1))\n",
        "Y_train = np.dot(X_train, RW)+np.random.normal(0,0,1)\n",
        "Y_test = np.dot(X_test, RW)+np.random.normal(0,0,1)\n",
        "print(RW)"
      ],
      "metadata": {
        "colab": {
          "base_uri": "https://localhost:8080/"
        },
        "id": "mDutAqUlLJrK",
        "outputId": "3e846bf5-b618-4757-cae8-72b34c48cfd0"
      },
      "execution_count": 24,
      "outputs": [
        {
          "output_type": "stream",
          "name": "stdout",
          "text": [
            "[[-3.29597523]\n",
            " [ 1.14286441]\n",
            " [ 0.61793433]\n",
            " [ 0.93677624]\n",
            " [ 2.17278712]\n",
            " [ 1.75039371]]\n"
          ]
        }
      ]
    },
    {
      "cell_type": "code",
      "source": [
        "from IPython.display import clear_output\n",
        "def Calculate_Gradient(W , X , Y):\n",
        "  Y_pred = np.dot(X, W)\n",
        "  Err = np.sum((Y - Y_pred)**2)\n",
        "  dW = -2 *np.dot( X.T , (Y - Y_pred))\n",
        "  return  dW , Err\n",
        "\n",
        "W = np.random.normal(0,2,(d , 1))\n",
        "\n",
        "\n",
        "epoch = 50\n",
        "learning_rate = 0.00001\n",
        "\n",
        "for i in range(epoch):\n",
        "  dW = np.zeros(W.shape)\n",
        "  DW = np.zeros(W.shape)\n",
        "  ERR = 0\n",
        "  Err = 0\n",
        "  for j in range(n):\n",
        "    dW , Err = Calculate_Gradient(W , X_train[j:j+1] , Y_train[j:j+1])\n",
        "    DW = DW + dW\n",
        "    ERR = ERR + Err\n",
        "  W = W - learning_rate * (DW/n)\n",
        "  Loss_train = ERR/n\n",
        "  Loss_test = np.sum((Y_test - np.dot(X_test, W))**2)/n\n",
        "  learning_rate = learning_rate * 0.99\n",
        "  clear_output(wait=True)\n",
        "  print(\"epoch: \" , i , \"Loss Train: \" , Loss_train)\n",
        "\n",
        "\n",
        "print(\"epoch: \" , i , \"Loss: \" , Loss_train)\n",
        "print(\"epoch: \" , i , \"Loss: \" , Loss_test)\n",
        "print(\"Weight: \" , W)\n"
      ],
      "metadata": {
        "colab": {
          "base_uri": "https://localhost:8080/"
        },
        "id": "0WEVJYbE9Szl",
        "outputId": "1b54f6ed-ce2f-4113-e1e1-61b37f3feabc"
      },
      "execution_count": null,
      "outputs": [
        {
          "output_type": "stream",
          "name": "stdout",
          "text": [
            "epoch:  9 Loss Train:  5086.633044360719\n"
          ]
        }
      ]
    },
    {
      "cell_type": "code",
      "source": [
        "RW"
      ],
      "metadata": {
        "colab": {
          "base_uri": "https://localhost:8080/"
        },
        "id": "0u_PQfb0KP0n",
        "outputId": "c19ca28b-0d23-43fe-c930-f46c0660bbf1"
      },
      "execution_count": 28,
      "outputs": [
        {
          "output_type": "execute_result",
          "data": {
            "text/plain": [
              "array([[-3.29597523],\n",
              "       [ 1.14286441],\n",
              "       [ 0.61793433],\n",
              "       [ 0.93677624],\n",
              "       [ 2.17278712],\n",
              "       [ 1.75039371]])"
            ]
          },
          "metadata": {},
          "execution_count": 28
        }
      ]
    }
  ],
  "metadata": {
    "colab": {
      "provenance": [],
      "authorship_tag": "ABX9TyNTwi0sjMMyl1kfc9dFNxaf",
      "include_colab_link": true
    },
    "kernelspec": {
      "display_name": "Python 3",
      "name": "python3"
    },
    "language_info": {
      "name": "python"
    }
  },
  "nbformat": 4,
  "nbformat_minor": 0
}